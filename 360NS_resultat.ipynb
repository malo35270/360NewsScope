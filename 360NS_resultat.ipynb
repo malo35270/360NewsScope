{
 "cells": [
  {
   "cell_type": "code",
   "execution_count": 2,
   "metadata": {},
   "outputs": [],
   "source": [
    "import pandas as pd\n",
    "\n",
    "# Etape 1: Lire le fichier CSV\n",
    "\"\"\"df = pd.read_csv('archive/test/result/database_hierarchical_topics.csv')\n",
    "\n",
    "# Etape 2: Enlever la première colonne\n",
    "df_modifie = df.drop(df.columns[0], axis=1)\n",
    "\n",
    "# Etape 3: Sauvegarder le DataFrame modifié dans un nouveau fichier CSV\n",
    "df_modifie.to_csv('archive/test/result/database_hierarchical_topics.csv', index=False)\"\"\"\n",
    "\n"
   ]
  },
  {
   "cell_type": "code",
   "execution_count": 9,
   "metadata": {},
   "outputs": [
    {
     "name": "stdout",
     "output_type": "stream",
     "text": [
      "0      212\n",
      "1      211\n",
      "2      210\n",
      "3      209\n",
      "4      208\n",
      "      ... \n",
      "206      2\n",
      "207      2\n",
      "208      2\n",
      "209      2\n",
      "210      2\n",
      "Name: Topics, Length: 211, dtype: int64\n"
     ]
    }
   ],
   "source": [
    "import numpy as np\n",
    "import ast\n",
    "import pandas as pd\n",
    "dossier = 'archive/test/result'\n",
    "df = pd.read_csv(f\"{dossier}/database_hierarchical_topics.csv\")\n",
    "\n",
    "print(df[\"Topics\"].apply(ast.literal_eval).apply(len))\n"
   ]
  },
  {
   "cell_type": "code",
   "execution_count": 3,
   "metadata": {},
   "outputs": [],
   "source": [
    "import os\n",
    "import pandas as pd\n",
    "import networkx as nx\n",
    "from pyvis.network import Network\n",
    "from IPython.display import display, HTML\n",
    "import ast\n",
    "\n",
    "\n",
    "\n",
    "def create_network(path_folder):\n",
    "    news_net = Network(height=\"750px\", width=\"100%\", bgcolor=\"#222222\", font_color=\"white\")\n",
    "    news_net.barnes_hut()\n",
    "    news_data = pd.read_csv(f\"{path_folder}/database_update.csv\")\n",
    "    hierarchical_topics = pd.read_csv(f\"{path_folder}/database_hierarchical_topics.csv\")\n",
    "    \n",
    "\n",
    "    sources = pd.concat([hierarchical_topics[\"Parent_ID\"], hierarchical_topics[\"Parent_ID\"]], ignore_index=True)\n",
    "    sources_names = pd.concat([hierarchical_topics[\"Parent_Name\"], hierarchical_topics[\"Parent_Name\"]], ignore_index=True)\n",
    "    targets = pd.concat([hierarchical_topics[\"Child_Left_ID\"], hierarchical_topics[\"Child_Right_ID\"]], ignore_index=True)\n",
    "    targets_names = pd.concat([hierarchical_topics[\"Child_Left_Name\"], hierarchical_topics[\"Child_Right_Name\"]], ignore_index=True)\n",
    "    weights = pd.concat([hierarchical_topics[\"Distance\"], hierarchical_topics[\"Distance\"]], ignore_index=True)\n",
    "    data = hierarchical_topics[\"Topics\"].apply(ast.literal_eval).apply(len)\n",
    "    size_node = pd.concat([data,data],ignore_index=True)\n",
    "    edge_data = zip(sources, sources_names, targets, targets_names, weights,size_node)\n",
    "\n",
    "    for e in edge_data:\n",
    "                    src = e[0]\n",
    "                    src_names = e[1]\n",
    "                    dst = e[2]\n",
    "                    dst_names = e[3]\n",
    "                    w = e[4]\n",
    "                    s = e[5]\n",
    "\n",
    "                    news_net.add_node(src, src_names, title=src,value=s)\n",
    "                    news_net.add_node(dst, dst_names, title=dst,value=s)\n",
    "                    news_net.add_edge(src, dst, value=w)\n",
    "\n",
    "    neighbor_map = news_net.get_adj_list()\n",
    "\n",
    "    \"\"\"# add neighbor data to node hover data\n",
    "    for node in news_net.nodes:\n",
    "                    print(node)\n",
    "                    node[\"title\"] += \" Neighbors:<br>\" + \"<br>\".join(neighbor_map[node[\"id\"]])\n",
    "                    node[\"value\"] = len(neighbor_map[node[\"id\"]])\"\"\"\n",
    "    \n",
    "    for node in news_net.nodes:\n",
    "    # Assurez-vous que node[\"title\"] est une chaîne de caractères\n",
    "        node_title_str = str(node[\"title\"])\n",
    "        neighbors_str = \", \".join(str(neighbor) for neighbor in neighbor_map[node[\"id\"]])\n",
    "    # Utilisez la version chaîne de caractères de node[\"title\"] pour la concaténation\n",
    "        node[\"title\"] = node_title_str + \"\\n Neighbors : [\" + neighbors_str + \"]\"\n",
    "        node[\"value\"] = len(neighbor_map[node[\"id\"]])\n",
    "\n",
    "\n",
    "    \n",
    "\n",
    "    news_net.toggle_physics(True)\n",
    "    news_net.save_graph(\"graphs.html\")\n",
    "    \n",
    "\n",
    "\n",
    "if __name__ == '__main__':\n",
    "\n",
    "    dossier = 'archive/test/result'\n",
    "    create_network(dossier)\n",
    "\n",
    "    "
   ]
  },
  {
   "cell_type": "markdown",
   "metadata": {},
   "source": [
    "Warning: When  cdn_resources is 'local' jupyter notebook has issues displaying graphics on chrome/safari. Use cdn_resources='in_line' or cdn_resources='remote' if you have issues viewing graphics in a notebook."
   ]
  },
  {
   "cell_type": "code",
   "execution_count": null,
   "metadata": {},
   "outputs": [],
   "source": []
  }
 ],
 "metadata": {
  "kernelspec": {
   "display_name": "Python 3",
   "language": "python",
   "name": "python3"
  },
  "language_info": {
   "codemirror_mode": {
    "name": "ipython",
    "version": 3
   },
   "file_extension": ".py",
   "mimetype": "text/x-python",
   "name": "python",
   "nbconvert_exporter": "python",
   "pygments_lexer": "ipython3",
   "version": "3.11.8"
  }
 },
 "nbformat": 4,
 "nbformat_minor": 2
}
