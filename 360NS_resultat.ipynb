{
 "cells": [
  {
   "cell_type": "markdown",
   "metadata": {},
   "source": [
    "# CODE QUI DOIT FONCTIONNER"
   ]
  },
  {
   "cell_type": "code",
   "execution_count": 1,
   "metadata": {},
   "outputs": [],
   "source": [
    "import os\n",
    "import pandas as pd\n",
    "import networkx as nx\n",
    "from pyvis.network import Network\n",
    "from IPython.display import display, HTML\n",
    "import ast\n",
    "import json\n",
    "import numpy as np\n",
    "import glob"
   ]
  },
  {
   "cell_type": "code",
   "execution_count": 2,
   "metadata": {},
   "outputs": [],
   "source": [
    "dossier = '../data/archive/result'\n",
    "hierarchical_topics = pd.read_csv(f\"{dossier}/database_hierarchical_topics.csv\",sep=',',encoding='utf8')\n",
    "news_data = pd.read_csv(f\"{dossier}/database_update.csv\",sep=',',encoding='utf8')\n",
    "all_topic = pd.read_csv(f\"{dossier}/all_topics.csv\",sep=',',encoding='utf8').iloc[1:].reset_index(drop=True)"
   ]
  },
  {
   "cell_type": "code",
   "execution_count": 7,
   "metadata": {},
   "outputs": [
    {
     "name": "stdout",
     "output_type": "stream",
     "text": [
      "   Topic  Count                               Name  \\\n",
      "0      0    741  0_obamacare_insurance_health_care   \n",
      "1      1    557   1_emails_server_email_classified   \n",
      "2      2    546    2_gun_guns_awrhawkins_amendment   \n",
      "3      3    458    3_campus_milo_students_berkeley   \n",
      "4      4    447    4_poll_percent_voters_electoral   \n",
      "\n",
      "                                      Representation  \\\n",
      "0  ['obamacare', 'insurance', 'health', 'care', '...   \n",
      "1  ['emails', 'server', 'email', 'classified', 'f...   \n",
      "2  ['gun', 'guns', 'awrhawkins', 'amendment', 'ha...   \n",
      "3  ['campus', 'milo', 'students', 'berkeley', 'un...   \n",
      "4  ['poll', 'percent', 'voters', 'electoral', 'po...   \n",
      "\n",
      "                                 Representative_Docs  \n",
      "0  ['WASHINGTON — Vice Mike Pence top Republicans...  \n",
      "1  ['Following prepared text remarks Director Jam...  \n",
      "2  ['people armed , Donald J. Trump says rallies ...  \n",
      "3  ['BERKELEY , Calif. — Fires burned cradle free...  \n",
      "4  ['Washington ( CNN ) Democratic nominee Hillar...  \n"
     ]
    }
   ],
   "source": [
    "print(all_topic.head())"
   ]
  },
  {
   "cell_type": "code",
   "execution_count": 21,
   "metadata": {},
   "outputs": [],
   "source": [
    "news_net = Network(height=\"750px\", width=\"100%\", bgcolor=\"#222222\", font_color=\"white\", select_menu=True, layout=False)    \n",
    "news_net.barnes_hut()\n",
    "max_original_topic = hierarchical_topics.Parent_ID.astype(int).min() - 1\n",
    "\n",
    "        # Extract mapping from ID to name\n",
    "topic_to_name = dict(zip(hierarchical_topics.Child_Left_ID, hierarchical_topics.Child_Left_Name))\n",
    "topic_to_name.update(dict(zip(hierarchical_topics.Child_Right_ID, hierarchical_topics.Child_Right_Name)))\n",
    "topic_to_name.update(dict(zip(hierarchical_topics.Parent_ID, hierarchical_topics.Parent_Name)))\n",
    "\n",
    "topic_to_name = {topic: name for topic, name in topic_to_name.items()}\n",
    "#print((topic_to_name))\n",
    "        # Create tree\n",
    "tree = {row[1].Parent_ID: [row[1].Child_Left_ID, row[1].Child_Right_ID]\n",
    "        for row in hierarchical_topics.iterrows()}\n",
    "\n",
    "\n",
    "for parent,childs in tree.items():\n",
    "        src = parent\n",
    "        src_names = topic_to_name[parent]\n",
    "        topic_str, distance = hierarchical_topics.loc[hierarchical_topics['Parent_ID'] == parent, ['Topics', 'Distance']].values[0]\n",
    "        topics = set(int(topic.strip()) for topic in topic_str.strip('[]').split(','))\n",
    "        news_net.add_node(src, src_names, title=src,size=len(topics))\n",
    "        for child in childs:\n",
    "                dst = child\n",
    "                dst_names = topic_to_name[child]\n",
    "                news_net.add_node(dst, dst_names, title=dst)\n",
    "                news_net.add_edge(src, dst,values=distance)\n",
    "           \n",
    "last_parent_ids = {}\n",
    "for index, row in all_topic.iterrows():\n",
    "        last_parent_id = None\n",
    "        matching_rows = hierarchical_topics[hierarchical_topics['Topics'].apply(lambda x: row['Topic'] in list(int(topic.strip()) for topic in x.strip('[]').split(',')))]\n",
    "        if not matching_rows.empty:\n",
    "                last_parent_id = matching_rows['Parent_ID'].iloc[-1]\n",
    "        #last_parent_ids[str(row['Topic'])]= last_parent_id\n",
    "        Child_ID = hierarchical_topics.loc[hierarchical_topics['Parent_ID'] == last_parent_id,['Child_Left_ID','Child_Right_ID']].values[0]\n",
    "        #print(parent,Child_Left_ID,Child_Right_ID)\n",
    "        if row['Topic'] not in Child_ID:\n",
    "                news_net.add_node(row['Topic'], row['Name'], title=row['Topic'])\n",
    "                news_net.add_edge(last_parent_id, row['Topic'])\n",
    "\n",
    "\n",
    "        \"\"\"\n",
    "\n",
    "        list_doc = news_data.loc[news_data['topic'] == row['Topic'],'id', 'title',\"keyword\"].values\n",
    "        \n",
    "        for id,title,keywords in list_doc :\n",
    "                news_net.add_node(id,title,title=id)\n",
    "                news_net.add_edge(row['Topic'],id)\n",
    "                for keyword,distance in keywords :\n",
    "                        max = news_net.num_nodes()+1\n",
    "                        news_net.add_nodes(max,keyword,title=max)\n",
    "                        news_net.add_edge(id,max,distance)\n",
    "        \"\"\"\n",
    "neighbor_map = news_net.get_adj_list()\n",
    "for node in news_net.nodes:\n",
    "# Assurez-vous que node[\"title\"] est une chaîne de caractères\n",
    "        node_title_str = node[\"label\"]\n",
    "        neighbors_str = \", \".join(str(neighbor) for neighbor in neighbor_map[node[\"id\"]])\n",
    "        # Utilisez la version chaîne de caractères de node[\"title\"] pour la concaténation\n",
    "        node[\"title\"] = node_title_str + \"\\n Neighbors : [\" + neighbors_str + \"]\"\n",
    "        node[\"value\"] = len(neighbor_map[node[\"id\"]])\n",
    "\n",
    "\n",
    "news_net.toggle_physics(True)\n",
    "news_net.show_buttons(True)\n",
    "news_net.inherit_edge_colors(True)\n",
    "news_net.save_graph(\"graphs_second_step.html\")   \n"
   ]
  },
  {
   "cell_type": "code",
   "execution_count": 20,
   "metadata": {},
   "outputs": [
    {
     "name": "stdout",
     "output_type": "stream",
     "text": [
      "{'0': 848, '1': 768, '2': 775, '3': 790, '4': 713, '5': 751, '6': 798, '7': 768, '8': 785, '9': 754, '10': 755, '11': 842, '12': 722, '13': 847, '14': 749, '15': 766, '16': 738, '17': 742, '18': 892, '19': 746, '20': 955, '21': 746, '22': 827, '23': 923, '24': 815, '25': 855, '26': 725, '27': 950, '28': 833, '29': 796, '30': 908, '31': 705, '32': 806, '33': 858, '34': 747, '35': 807, '36': 961, '37': 704, '38': 715, '39': 699, '40': 850, '41': 695, '42': 805, '43': 860, '44': 841, '45': 846, '46': 810, '47': 762, '48': 734, '49': 703, '50': 730, '51': 901, '52': 1137, '53': 869, '54': 1049, '55': 1004, '56': 792, '57': 809, '58': 820, '59': 720, '60': 874, '61': 736, '62': 771, '63': 781, '64': 813, '65': 934, '66': 1017, '67': 696, '68': 707, '69': 902, '70': 753, '71': 835, '72': 823, '73': 1012, '74': 863, '75': 721, '76': 752, '77': 865, '78': 861, '79': 815, '80': 823, '81': 724, '82': 764, '83': 701, '84': 717, '85': 816, '86': 981, '87': 722, '88': 862, '89': 948, '90': 804, '91': 744, '92': 784, '93': 876, '94': 918, '95': 706, '96': 882, '97': 868, '98': 907, '99': 723, '100': 718, '101': 874, '102': 736, '103': 791, '104': 827, '105': 995, '106': 872, '107': 792, '108': 841, '109': 770, '110': 782, '111': 1205, '112': 700, '113': 892, '114': 853, '115': 752, '116': 974, '117': 1103, '118': 719, '119': 844, '120': 769, '121': 750, '122': 1079, '123': 798, '124': 1015, '125': 884, '126': 887, '127': 730, '128': 1049, '129': 1014, '130': 909, '131': 1162, '132': 1164, '133': 927, '134': 955, '135': 963, '136': 978, '137': 800, '138': 1131, '139': 789, '140': 731, '141': 703, '142': 760, '143': 936, '144': 1046, '145': 853, '146': 893, '147': 848, '148': 735, '149': 1054, '150': 777, '151': 1055, '152': 718, '153': 700, '154': 1083, '155': 952, '156': 764, '157': 849, '158': 840, '159': 803, '160': 960, '161': 979, '162': 767, '163': 824, '164': 963, '165': 702, '166': 927, '167': 1053, '168': 728, '169': 779, '170': 832, '171': 810, '172': 1091, '173': 929, '174': 1015, '175': 818, '176': 721, '177': 863, '178': 819, '179': 716, '180': 1085, '181': 843, '182': 932, '183': 725, '184': 758, '185': 924, '186': 870, '187': 712, '188': 771, '189': 733, '190': 790, '191': 786, '192': 887, '193': 1125, '194': 788, '195': 729, '196': 713, '197': 899, '198': 847, '199': 1083, '200': 821, '201': 708, '202': 901, '203': 726, '204': 1109, '205': 859, '206': 947, '207': 966, '208': 941, '209': 758, '210': 727, '211': 1023, '212': 944, '213': 808, '214': 1101, '215': 825, '216': 740, '217': 739, '218': 799, '219': 706, '220': 1101, '221': 711, '222': 907, '223': 808, '224': 763, '225': 854, '226': 772, '227': 1082, '228': 981, '229': 862, '230': 915, '231': 831, '232': 704, '233': 1120, '234': 828, '235': 906, '236': 724, '237': 787, '238': 951, '239': 784, '240': 911, '241': 708, '242': 940, '243': 1171, '244': 777, '245': 839, '246': 954, '247': 998, '248': 914, '249': 1019, '250': 891, '251': 1155, '252': 849, '253': 709, '254': 1022, '255': 824, '256': 714, '257': 837, '258': 925, '259': 816, '260': 1068, '261': 1006, '262': 851, '263': 814, '264': 923, '265': 1002, '266': 1080, '267': 1012, '268': 870, '269': 698, '270': 775, '271': 749, '272': 738, '273': 760, '274': 860, '275': 735, '276': 1185, '277': 1065, '278': 732, '279': 882, '280': 774, '281': 852, '282': 759, '283': 744, '284': 712, '285': 1141, '286': 1021, '287': 748, '288': 799, '289': 767, '290': 975, '291': 867, '292': 1182, '293': 1096, '294': 889, '295': 1076, '296': 931, '297': 755, '298': 693, '299': 895, '300': 842, '301': 948, '302': 1062, '303': 1146, '304': 1164, '305': 944, '306': 893, '307': 915, '308': 1100, '309': 1026, '310': 1090, '311': 719, '312': 972, '313': 785, '314': 734, '315': 800, '316': 950, '317': 1056, '318': 903, '319': 880, '320': 1109, '321': 1011, '322': 773, '323': 1086, '324': 783, '325': 906, '326': 709, '327': 717, '328': 1077, '329': 1052, '330': 814, '331': 965, '332': 1112, '333': 803, '334': 928, '335': 1148, '336': 754, '337': 817, '338': 1110, '339': 878, '340': 791, '341': 834, '342': 871, '343': 844, '344': 867, '345': 1058, '346': 970, '347': 877, '348': 778, '349': 743, '350': 793, '351': 794, '352': 715, '353': 822, '354': 947, '355': 888, '356': 1128, '357': 711, '358': 757, '359': 885, '360': 873, '361': 811, '362': 932, '363': 838, '364': 793, '365': 737, '366': 1099, '367': 701, '368': 881, '369': 1008, '370': 763, '371': 900, '372': 881, '373': 897, '374': 1023, '375': 837, '376': 707, '377': 839, '378': 732, '379': 1052, '380': 904, '381': 1088, '382': 766, '383': 761, '384': 888, '385': 757, '386': 826, '387': 801, '388': 996, '389': 745, '390': 836, '391': 1020, '392': 899, '393': 716, '394': 990, '395': 697, '396': 1059, '397': 1077, '398': 1010, '399': 1035, '400': 1025, '401': 835, '402': 1099, '403': 883, '404': 984, '405': 765, '406': 866, '407': 776, '408': 818, '409': 940, '410': 741, '411': 794, '412': 742, '413': 914, '414': 765, '415': 933, '416': 1037, '417': 1009, '418': 1117, '419': 896, '420': 774, '421': 1174, '422': 807, '423': 822, '424': 811, '425': 1088, '426': 830, '427': 1003, '428': 1069, '429': 714, '430': 1048, '431': 871, '432': 788, '433': 964, '434': 958, '435': 967, '436': 1156, '437': 912, '438': 1166, '439': 1031, '440': 1030, '441': 1014, '442': 773, '443': 983, '444': 832, '445': 1091, '446': 697, '447': 720, '448': 1089, '449': 900, '450': 1167, '451': 1151, '452': 833, '453': 781, '454': 694, '455': 710, '456': 694, '457': 762, '458': 1147, '459': 921, '460': 829, '461': 993, '462': 856, '463': 801, '464': 710, '465': 812, '466': 969, '467': 1005, '468': 737, '469': 1159, '470': 695, '471': 916, '472': 743, '473': 1070, '474': 696, '475': 1073, '476': 819, '477': 937, '478': 1075, '479': 759, '480': 894, '481': 926, '482': 930, '483': 976, '484': 1084, '485': 1058, '486': 1066, '487': 1090, '488': 986, '489': 1079, '490': 875, '491': 1000, '492': 903, '493': 756, '494': 992, '495': 924, '496': 1114, '497': 1028, '498': 786, '499': 705, '500': 895, '501': 935, '502': 857, '503': 1110, '504': 1021, '505': 1113, '506': 861, '507': 993, '508': 939, '509': 1169, '510': 976, '511': 1134, '512': 987, '513': 1000, '514': 985, '515': 1078, '516': 1098, '517': 1044, '518': 1047, '519': 729, '520': 1048, '521': 1158, '522': 1066, '523': 747, '524': 826, '525': 1113, '526': 864, '527': 751, '528': 912, '529': 896, '530': 1149, '531': 946, '532': 769, '533': 1013, '534': 802, '535': 1070, '536': 1078, '537': 866, '538': 1040, '539': 1098, '540': 1087, '541': 1177, '542': 998, '543': 985, '544': 1171, '545': 1024, '546': 977, '547': 1127, '548': 922, '549': 728, '550': 787, '551': 1076, '552': 1095, '553': 1165, '554': 943, '555': 854, '556': 1102, '557': 1138, '558': 968, '559': 789, '560': 902, '561': 1031, '562': 886, '563': 1119, '564': 933, '565': 991, '566': 889, '567': 989, '568': 1041, '569': 780, '570': 917, '571': 1123, '572': 1043, '573': 825, '574': 959, '575': 920, '576': 855, '577': 989, '578': 967, '579': 960, '580': 1053, '581': 756, '582': 1007, '583': 1129, '584': 731, '585': 1173, '586': 1189, '587': 804, '588': 836, '589': 1072, '590': 928, '591': 952, '592': 1016, '593': 1140, '594': 1107, '595': 817, '596': 1182, '597': 1080, '598': 1001, '599': 727, '600': 1005, '601': 978, '602': 864, '603': 905, '604': 926, '605': 1095, '606': 1042, '607': 797, '608': 973, '609': 1193, '610': 999, '611': 988, '612': 1056, '613': 821, '614': 753, '615': 959, '616': 859, '617': 745, '618': 961, '619': 1093, '620': 845, '621': 1074, '622': 1116, '623': 1051, '624': 1160, '625': 813, '626': 997, '627': 776, '628': 919, '629': 1008, '630': 890, '631': 693, '632': 972, '633': 834, '634': 1157, '635': 877, '636': 698, '637': 852, '638': 879, '639': 970, '640': 1105, '641': 1071, '642': 726, '643': 831, '644': 1136, '645': 1161, '646': 971, '647': 1039, '648': 885, '649': 740, '650': 1038, '651': 1063, '652': 1177, '653': 1092, '654': 1180, '655': 938, '656': 1057, '657': 845, '658': 1170, '659': 918, '660': 1060, '661': 1045, '662': 1040, '663': 733, '664': 904, '665': 783, '666': 1127, '667': 965, '668': 937, '669': 1036, '670': 702, '671': 1097, '672': 1062, '673': 699, '674': 919, '675': 806, '676': 761, '677': 994, '678': 1068, '679': 865, '680': 828, '681': 772, '682': 945, '683': 875, '684': 949, '685': 1059, '686': 898, '687': 748, '688': 1034, '689': 780, '690': 741, '691': 991, '692': 1081}\n"
     ]
    }
   ],
   "source": [
    "last_parent_ids = {}\n",
    "\n",
    "for index, row in all_topic.iterrows():\n",
    "    # Initialize a variable to hold the last parent_id found\n",
    "    last_parent_id = None\n",
    "    #print(row)\n",
    "    matching_rows = hierarchical_topics[hierarchical_topics['Topics'].apply(lambda x: row['Topic'] in list(int(topic.strip()) for topic in x.strip('[]').split(',')))]\n",
    "    \n",
    "    # If there are matching rows, update last_parent_id with the last Parent_ID\n",
    "    if not matching_rows.empty:\n",
    "        last_parent_id = matching_rows['Parent_ID'].iloc[-1]  # Get the last matching parent ID\n",
    "    \n",
    "    # Append the last_parent_id to the list\n",
    "    last_parent_ids[str(row['Topic'])]= last_parent_id\n",
    "\n",
    "# Now last_parent_ids list contains the last parent ID for each row in all_topic\n",
    "print(last_parent_ids)\n"
   ]
  },
  {
   "cell_type": "markdown",
   "metadata": {},
   "source": [
    "# Tree test"
   ]
  },
  {
   "cell_type": "code",
   "execution_count": 44,
   "metadata": {},
   "outputs": [
    {
     "ename": "FileNotFoundError",
     "evalue": "[Errno 2] No such file or directory: 'archive/test/result/database_hierarchical_topics.csv'",
     "output_type": "error",
     "traceback": [
      "\u001b[1;31m---------------------------------------------------------------------------\u001b[0m",
      "\u001b[1;31mFileNotFoundError\u001b[0m                         Traceback (most recent call last)",
      "Cell \u001b[1;32mIn[44], line 3\u001b[0m\n\u001b[0;32m      1\u001b[0m max_distance \u001b[38;5;241m=\u001b[39m \u001b[38;5;28;01mNone\u001b[39;00m\n\u001b[0;32m      2\u001b[0m width \u001b[38;5;241m=\u001b[39m \u001b[38;5;241m1\u001b[39m \n\u001b[1;32m----> 3\u001b[0m hier_topics \u001b[38;5;241m=\u001b[39m \u001b[43mpd\u001b[49m\u001b[38;5;241;43m.\u001b[39;49m\u001b[43mread_csv\u001b[49m\u001b[43m(\u001b[49m\u001b[38;5;124;43mf\u001b[39;49m\u001b[38;5;124;43m\"\u001b[39;49m\u001b[38;5;124;43marchive/test/result/database_hierarchical_topics.csv\u001b[39;49m\u001b[38;5;124;43m\"\u001b[39;49m\u001b[43m)\u001b[49m\n\u001b[0;32m      4\u001b[0m \u001b[38;5;28;01mif\u001b[39;00m max_distance \u001b[38;5;129;01mis\u001b[39;00m \u001b[38;5;28;01mNone\u001b[39;00m:\n\u001b[0;32m      5\u001b[0m     max_distance \u001b[38;5;241m=\u001b[39m hier_topics\u001b[38;5;241m.\u001b[39mDistance\u001b[38;5;241m.\u001b[39mmax() \u001b[38;5;241m+\u001b[39m \u001b[38;5;241m1\u001b[39m\n",
      "File \u001b[1;32m~\\AppData\\Local\\Packages\\PythonSoftwareFoundation.Python.3.11_qbz5n2kfra8p0\\LocalCache\\local-packages\\Python311\\site-packages\\pandas\\io\\parsers\\readers.py:1024\u001b[0m, in \u001b[0;36mread_csv\u001b[1;34m(filepath_or_buffer, sep, delimiter, header, names, index_col, usecols, dtype, engine, converters, true_values, false_values, skipinitialspace, skiprows, skipfooter, nrows, na_values, keep_default_na, na_filter, verbose, skip_blank_lines, parse_dates, infer_datetime_format, keep_date_col, date_parser, date_format, dayfirst, cache_dates, iterator, chunksize, compression, thousands, decimal, lineterminator, quotechar, quoting, doublequote, escapechar, comment, encoding, encoding_errors, dialect, on_bad_lines, delim_whitespace, low_memory, memory_map, float_precision, storage_options, dtype_backend)\u001b[0m\n\u001b[0;32m   1011\u001b[0m kwds_defaults \u001b[38;5;241m=\u001b[39m _refine_defaults_read(\n\u001b[0;32m   1012\u001b[0m     dialect,\n\u001b[0;32m   1013\u001b[0m     delimiter,\n\u001b[1;32m   (...)\u001b[0m\n\u001b[0;32m   1020\u001b[0m     dtype_backend\u001b[38;5;241m=\u001b[39mdtype_backend,\n\u001b[0;32m   1021\u001b[0m )\n\u001b[0;32m   1022\u001b[0m kwds\u001b[38;5;241m.\u001b[39mupdate(kwds_defaults)\n\u001b[1;32m-> 1024\u001b[0m \u001b[38;5;28;01mreturn\u001b[39;00m \u001b[43m_read\u001b[49m\u001b[43m(\u001b[49m\u001b[43mfilepath_or_buffer\u001b[49m\u001b[43m,\u001b[49m\u001b[43m \u001b[49m\u001b[43mkwds\u001b[49m\u001b[43m)\u001b[49m\n",
      "File \u001b[1;32m~\\AppData\\Local\\Packages\\PythonSoftwareFoundation.Python.3.11_qbz5n2kfra8p0\\LocalCache\\local-packages\\Python311\\site-packages\\pandas\\io\\parsers\\readers.py:618\u001b[0m, in \u001b[0;36m_read\u001b[1;34m(filepath_or_buffer, kwds)\u001b[0m\n\u001b[0;32m    615\u001b[0m _validate_names(kwds\u001b[38;5;241m.\u001b[39mget(\u001b[38;5;124m\"\u001b[39m\u001b[38;5;124mnames\u001b[39m\u001b[38;5;124m\"\u001b[39m, \u001b[38;5;28;01mNone\u001b[39;00m))\n\u001b[0;32m    617\u001b[0m \u001b[38;5;66;03m# Create the parser.\u001b[39;00m\n\u001b[1;32m--> 618\u001b[0m parser \u001b[38;5;241m=\u001b[39m \u001b[43mTextFileReader\u001b[49m\u001b[43m(\u001b[49m\u001b[43mfilepath_or_buffer\u001b[49m\u001b[43m,\u001b[49m\u001b[43m \u001b[49m\u001b[38;5;241;43m*\u001b[39;49m\u001b[38;5;241;43m*\u001b[39;49m\u001b[43mkwds\u001b[49m\u001b[43m)\u001b[49m\n\u001b[0;32m    620\u001b[0m \u001b[38;5;28;01mif\u001b[39;00m chunksize \u001b[38;5;129;01mor\u001b[39;00m iterator:\n\u001b[0;32m    621\u001b[0m     \u001b[38;5;28;01mreturn\u001b[39;00m parser\n",
      "File \u001b[1;32m~\\AppData\\Local\\Packages\\PythonSoftwareFoundation.Python.3.11_qbz5n2kfra8p0\\LocalCache\\local-packages\\Python311\\site-packages\\pandas\\io\\parsers\\readers.py:1618\u001b[0m, in \u001b[0;36mTextFileReader.__init__\u001b[1;34m(self, f, engine, **kwds)\u001b[0m\n\u001b[0;32m   1615\u001b[0m     \u001b[38;5;28mself\u001b[39m\u001b[38;5;241m.\u001b[39moptions[\u001b[38;5;124m\"\u001b[39m\u001b[38;5;124mhas_index_names\u001b[39m\u001b[38;5;124m\"\u001b[39m] \u001b[38;5;241m=\u001b[39m kwds[\u001b[38;5;124m\"\u001b[39m\u001b[38;5;124mhas_index_names\u001b[39m\u001b[38;5;124m\"\u001b[39m]\n\u001b[0;32m   1617\u001b[0m \u001b[38;5;28mself\u001b[39m\u001b[38;5;241m.\u001b[39mhandles: IOHandles \u001b[38;5;241m|\u001b[39m \u001b[38;5;28;01mNone\u001b[39;00m \u001b[38;5;241m=\u001b[39m \u001b[38;5;28;01mNone\u001b[39;00m\n\u001b[1;32m-> 1618\u001b[0m \u001b[38;5;28mself\u001b[39m\u001b[38;5;241m.\u001b[39m_engine \u001b[38;5;241m=\u001b[39m \u001b[38;5;28;43mself\u001b[39;49m\u001b[38;5;241;43m.\u001b[39;49m\u001b[43m_make_engine\u001b[49m\u001b[43m(\u001b[49m\u001b[43mf\u001b[49m\u001b[43m,\u001b[49m\u001b[43m \u001b[49m\u001b[38;5;28;43mself\u001b[39;49m\u001b[38;5;241;43m.\u001b[39;49m\u001b[43mengine\u001b[49m\u001b[43m)\u001b[49m\n",
      "File \u001b[1;32m~\\AppData\\Local\\Packages\\PythonSoftwareFoundation.Python.3.11_qbz5n2kfra8p0\\LocalCache\\local-packages\\Python311\\site-packages\\pandas\\io\\parsers\\readers.py:1878\u001b[0m, in \u001b[0;36mTextFileReader._make_engine\u001b[1;34m(self, f, engine)\u001b[0m\n\u001b[0;32m   1876\u001b[0m     \u001b[38;5;28;01mif\u001b[39;00m \u001b[38;5;124m\"\u001b[39m\u001b[38;5;124mb\u001b[39m\u001b[38;5;124m\"\u001b[39m \u001b[38;5;129;01mnot\u001b[39;00m \u001b[38;5;129;01min\u001b[39;00m mode:\n\u001b[0;32m   1877\u001b[0m         mode \u001b[38;5;241m+\u001b[39m\u001b[38;5;241m=\u001b[39m \u001b[38;5;124m\"\u001b[39m\u001b[38;5;124mb\u001b[39m\u001b[38;5;124m\"\u001b[39m\n\u001b[1;32m-> 1878\u001b[0m \u001b[38;5;28mself\u001b[39m\u001b[38;5;241m.\u001b[39mhandles \u001b[38;5;241m=\u001b[39m \u001b[43mget_handle\u001b[49m\u001b[43m(\u001b[49m\n\u001b[0;32m   1879\u001b[0m \u001b[43m    \u001b[49m\u001b[43mf\u001b[49m\u001b[43m,\u001b[49m\n\u001b[0;32m   1880\u001b[0m \u001b[43m    \u001b[49m\u001b[43mmode\u001b[49m\u001b[43m,\u001b[49m\n\u001b[0;32m   1881\u001b[0m \u001b[43m    \u001b[49m\u001b[43mencoding\u001b[49m\u001b[38;5;241;43m=\u001b[39;49m\u001b[38;5;28;43mself\u001b[39;49m\u001b[38;5;241;43m.\u001b[39;49m\u001b[43moptions\u001b[49m\u001b[38;5;241;43m.\u001b[39;49m\u001b[43mget\u001b[49m\u001b[43m(\u001b[49m\u001b[38;5;124;43m\"\u001b[39;49m\u001b[38;5;124;43mencoding\u001b[39;49m\u001b[38;5;124;43m\"\u001b[39;49m\u001b[43m,\u001b[49m\u001b[43m \u001b[49m\u001b[38;5;28;43;01mNone\u001b[39;49;00m\u001b[43m)\u001b[49m\u001b[43m,\u001b[49m\n\u001b[0;32m   1882\u001b[0m \u001b[43m    \u001b[49m\u001b[43mcompression\u001b[49m\u001b[38;5;241;43m=\u001b[39;49m\u001b[38;5;28;43mself\u001b[39;49m\u001b[38;5;241;43m.\u001b[39;49m\u001b[43moptions\u001b[49m\u001b[38;5;241;43m.\u001b[39;49m\u001b[43mget\u001b[49m\u001b[43m(\u001b[49m\u001b[38;5;124;43m\"\u001b[39;49m\u001b[38;5;124;43mcompression\u001b[39;49m\u001b[38;5;124;43m\"\u001b[39;49m\u001b[43m,\u001b[49m\u001b[43m \u001b[49m\u001b[38;5;28;43;01mNone\u001b[39;49;00m\u001b[43m)\u001b[49m\u001b[43m,\u001b[49m\n\u001b[0;32m   1883\u001b[0m \u001b[43m    \u001b[49m\u001b[43mmemory_map\u001b[49m\u001b[38;5;241;43m=\u001b[39;49m\u001b[38;5;28;43mself\u001b[39;49m\u001b[38;5;241;43m.\u001b[39;49m\u001b[43moptions\u001b[49m\u001b[38;5;241;43m.\u001b[39;49m\u001b[43mget\u001b[49m\u001b[43m(\u001b[49m\u001b[38;5;124;43m\"\u001b[39;49m\u001b[38;5;124;43mmemory_map\u001b[39;49m\u001b[38;5;124;43m\"\u001b[39;49m\u001b[43m,\u001b[49m\u001b[43m \u001b[49m\u001b[38;5;28;43;01mFalse\u001b[39;49;00m\u001b[43m)\u001b[49m\u001b[43m,\u001b[49m\n\u001b[0;32m   1884\u001b[0m \u001b[43m    \u001b[49m\u001b[43mis_text\u001b[49m\u001b[38;5;241;43m=\u001b[39;49m\u001b[43mis_text\u001b[49m\u001b[43m,\u001b[49m\n\u001b[0;32m   1885\u001b[0m \u001b[43m    \u001b[49m\u001b[43merrors\u001b[49m\u001b[38;5;241;43m=\u001b[39;49m\u001b[38;5;28;43mself\u001b[39;49m\u001b[38;5;241;43m.\u001b[39;49m\u001b[43moptions\u001b[49m\u001b[38;5;241;43m.\u001b[39;49m\u001b[43mget\u001b[49m\u001b[43m(\u001b[49m\u001b[38;5;124;43m\"\u001b[39;49m\u001b[38;5;124;43mencoding_errors\u001b[39;49m\u001b[38;5;124;43m\"\u001b[39;49m\u001b[43m,\u001b[49m\u001b[43m \u001b[49m\u001b[38;5;124;43m\"\u001b[39;49m\u001b[38;5;124;43mstrict\u001b[39;49m\u001b[38;5;124;43m\"\u001b[39;49m\u001b[43m)\u001b[49m\u001b[43m,\u001b[49m\n\u001b[0;32m   1886\u001b[0m \u001b[43m    \u001b[49m\u001b[43mstorage_options\u001b[49m\u001b[38;5;241;43m=\u001b[39;49m\u001b[38;5;28;43mself\u001b[39;49m\u001b[38;5;241;43m.\u001b[39;49m\u001b[43moptions\u001b[49m\u001b[38;5;241;43m.\u001b[39;49m\u001b[43mget\u001b[49m\u001b[43m(\u001b[49m\u001b[38;5;124;43m\"\u001b[39;49m\u001b[38;5;124;43mstorage_options\u001b[39;49m\u001b[38;5;124;43m\"\u001b[39;49m\u001b[43m,\u001b[49m\u001b[43m \u001b[49m\u001b[38;5;28;43;01mNone\u001b[39;49;00m\u001b[43m)\u001b[49m\u001b[43m,\u001b[49m\n\u001b[0;32m   1887\u001b[0m \u001b[43m\u001b[49m\u001b[43m)\u001b[49m\n\u001b[0;32m   1888\u001b[0m \u001b[38;5;28;01massert\u001b[39;00m \u001b[38;5;28mself\u001b[39m\u001b[38;5;241m.\u001b[39mhandles \u001b[38;5;129;01mis\u001b[39;00m \u001b[38;5;129;01mnot\u001b[39;00m \u001b[38;5;28;01mNone\u001b[39;00m\n\u001b[0;32m   1889\u001b[0m f \u001b[38;5;241m=\u001b[39m \u001b[38;5;28mself\u001b[39m\u001b[38;5;241m.\u001b[39mhandles\u001b[38;5;241m.\u001b[39mhandle\n",
      "File \u001b[1;32m~\\AppData\\Local\\Packages\\PythonSoftwareFoundation.Python.3.11_qbz5n2kfra8p0\\LocalCache\\local-packages\\Python311\\site-packages\\pandas\\io\\common.py:873\u001b[0m, in \u001b[0;36mget_handle\u001b[1;34m(path_or_buf, mode, encoding, compression, memory_map, is_text, errors, storage_options)\u001b[0m\n\u001b[0;32m    868\u001b[0m \u001b[38;5;28;01melif\u001b[39;00m \u001b[38;5;28misinstance\u001b[39m(handle, \u001b[38;5;28mstr\u001b[39m):\n\u001b[0;32m    869\u001b[0m     \u001b[38;5;66;03m# Check whether the filename is to be opened in binary mode.\u001b[39;00m\n\u001b[0;32m    870\u001b[0m     \u001b[38;5;66;03m# Binary mode does not support 'encoding' and 'newline'.\u001b[39;00m\n\u001b[0;32m    871\u001b[0m     \u001b[38;5;28;01mif\u001b[39;00m ioargs\u001b[38;5;241m.\u001b[39mencoding \u001b[38;5;129;01mand\u001b[39;00m \u001b[38;5;124m\"\u001b[39m\u001b[38;5;124mb\u001b[39m\u001b[38;5;124m\"\u001b[39m \u001b[38;5;129;01mnot\u001b[39;00m \u001b[38;5;129;01min\u001b[39;00m ioargs\u001b[38;5;241m.\u001b[39mmode:\n\u001b[0;32m    872\u001b[0m         \u001b[38;5;66;03m# Encoding\u001b[39;00m\n\u001b[1;32m--> 873\u001b[0m         handle \u001b[38;5;241m=\u001b[39m \u001b[38;5;28mopen\u001b[39m(\n\u001b[0;32m    874\u001b[0m             handle,\n\u001b[0;32m    875\u001b[0m             ioargs\u001b[38;5;241m.\u001b[39mmode,\n\u001b[0;32m    876\u001b[0m             encoding\u001b[38;5;241m=\u001b[39mioargs\u001b[38;5;241m.\u001b[39mencoding,\n\u001b[0;32m    877\u001b[0m             errors\u001b[38;5;241m=\u001b[39merrors,\n\u001b[0;32m    878\u001b[0m             newline\u001b[38;5;241m=\u001b[39m\u001b[38;5;124m\"\u001b[39m\u001b[38;5;124m\"\u001b[39m,\n\u001b[0;32m    879\u001b[0m         )\n\u001b[0;32m    880\u001b[0m     \u001b[38;5;28;01melse\u001b[39;00m:\n\u001b[0;32m    881\u001b[0m         \u001b[38;5;66;03m# Binary mode\u001b[39;00m\n\u001b[0;32m    882\u001b[0m         handle \u001b[38;5;241m=\u001b[39m \u001b[38;5;28mopen\u001b[39m(handle, ioargs\u001b[38;5;241m.\u001b[39mmode)\n",
      "\u001b[1;31mFileNotFoundError\u001b[0m: [Errno 2] No such file or directory: 'archive/test/result/database_hierarchical_topics.csv'"
     ]
    }
   ],
   "source": [
    "max_distance = None\n",
    "width = 1 \n",
    "hier_topics = pd.read_csv(f\"archive/test/result/database_hierarchical_topics.csv\")\n",
    "if max_distance is None:\n",
    "    max_distance = hier_topics.Distance.max() + 1\n",
    "\n",
    "max_original_topic = hier_topics.Parent_ID.astype(int).min() - 1\n",
    "\n",
    "# Extract mapping from ID to name\n",
    "topic_to_name = dict(zip(hier_topics.Child_Left_ID, hier_topics.Child_Left_Name))\n",
    "topic_to_name.update(dict(zip(hier_topics.Child_Right_ID, hier_topics.Child_Right_Name)))\n",
    "topic_to_name = {str(topic): name[:100] for topic, name in topic_to_name.items()}\n",
    "\n",
    "# Create tree\n",
    "tree = {str(row[1].Parent_ID): [str(row[1].Child_Left_ID), str(row[1].Child_Right_ID)]\n",
    "        for row in hier_topics.iterrows()}\n",
    "\n",
    "def get_tree(start, tree):\n",
    "    \"\"\" Based on: https://stackoverflow.com/a/51920869/10532563 \"\"\"\n",
    "\n",
    "    def _tree(to_print, start, parent, tree, grandpa=None, indent=\"\"):\n",
    "\n",
    "        # Get distance between merged topics\n",
    "        distance = hier_topics.loc[(hier_topics.Child_Left_ID == parent) |\n",
    "                                    (hier_topics.Child_Right_ID == parent), \"Distance\"]\n",
    "        distance = distance.values[0] if len(distance) > 0 else 10\n",
    "\n",
    "        if parent != start:\n",
    "            if grandpa is None:\n",
    "                to_print += topic_to_name[parent]\n",
    "            else:\n",
    "                if int(parent) <= max_original_topic:\n",
    "                    to_print += \"■──\" + topic_to_name[parent] + f\" ── Topic: {parent}\" + \"\\n\"\n",
    "                    \n",
    "                else:\n",
    "                    to_print += topic_to_name[parent] + \"\\n\"\n",
    "\n",
    "        if parent not in tree:\n",
    "            return to_print\n",
    "\n",
    "        for child in tree[parent][:-1]:\n",
    "            to_print += indent + \"├\" + \"─\"\n",
    "            to_print = _tree(to_print, start, child, tree, parent, indent + \"│\" + \" \" * width)\n",
    "\n",
    "        child = tree[parent][-1]\n",
    "        to_print += indent + \"└\" + \"─\"\n",
    "        to_print = _tree(to_print, start, child, tree, parent, indent + \" \" * (width+1))\n",
    "\n",
    "        return to_print\n",
    "\n",
    "    to_print = \".\" + \"\\n\"\n",
    "    to_print = _tree(to_print, start, start, tree)\n",
    "    return to_print\n",
    "\n",
    "start = str(hier_topics.Parent_ID.astype(int).max())\n",
    "print(get_tree(start, tree))"
   ]
  },
  {
   "cell_type": "code",
   "execution_count": 6,
   "metadata": {},
   "outputs": [
    {
     "name": "stdout",
     "output_type": "stream",
     "text": [
      "           id                                              title  \\\n",
      "7170  25698.0  Without Obama, Shinzo Abe’s Approach to U.S.-J...   \n",
      "7171  25700.0  Giving Up ‘Mostly Everything’ to Care for His ...   \n",
      "7172  25701.0  Carrie Fisher, Trump, Israel: Your Wednesday E...   \n",
      "7173  25703.0  How to Have a Dinner Party: Friends Not Requir...   \n",
      "7174  25704.0                   The Fighter - The New York Times   \n",
      "7175  25705.0  A Brother’s Crimes and a Sister’s Betrayal Mak...   \n",
      "7176  25708.0  Uncertainty Over New Chinese Law Rattles Forei...   \n",
      "7177  25709.0  A Majority Agreed She Was Raped by a Stanford ...   \n",
      "7178  25710.0  Searching for the Human Factor in Deadly Avala...   \n",
      "7179  25713.0  Michael Skakel’s Murder Conviction Has Been Re...   \n",
      "\n",
      "         publication                             author        date    year  \\\n",
      "7170  New York Times                        Motoko Rich  2017-01-05  2017.0   \n",
      "7171  New York Times                          John Otis  2016-12-29  2016.0   \n",
      "7172  New York Times  Karen Zraick and Sandra Stevenson  2016-12-29  2016.0   \n",
      "7173  New York Times                    Hannah Seligson  2017-04-10  2017.0   \n",
      "7174  New York Times                      C. J. Chivers  2017-04-10  2017.0   \n",
      "7175  New York Times                        Nina Siegal  2017-04-13  2017.0   \n",
      "7176  New York Times                      Chris Buckley  2017-04-14  2017.0   \n",
      "7177  New York Times           Joe Drape and Marc Tracy  2017-04-12  2017.0   \n",
      "7178  New York Times                          Steph Yin  2017-01-24  2017.0   \n",
      "7179  New York Times      Alan Feuer and Kristin Hussey  2017-04-12  2017.0   \n",
      "\n",
      "      month  url                                            content  \n",
      "7170    1.0  NaN  TOKYO  —   Since becoming prime minister for t...  \n",
      "7171   12.0  NaN  “Don’t scratch it. ” Those were the first word...  \n",
      "7172   12.0  NaN  (Want to get this briefing by email? Here’s th...  \n",
      "7173    4.0  NaN  Over roast chicken and autumn vegetables, our ...  \n",
      "7174    4.0  NaN  Sam Siatta was deep in a tequila haze, so stag...  \n",
      "7175    4.0  NaN  AMSTERDAM  —   When he read the   sample of As...  \n",
      "7176    4.0  NaN  BEIJING  —   The hotline rings, but nobody ans...  \n",
      "7177    4.0  NaN  At Stanford University, in a conference room a...  \n",
      "7178    1.0  NaN  Every year, about 30 Americans die in avalanch...  \n",
      "7179    4.0  NaN  In the latest twist in a case that has been fu...  \n",
      "RangeIndex(start=7170, stop=7180, step=1)\n",
      "Key exists!\n"
     ]
    }
   ],
   "source": [
    "import pandas as pd\n",
    "\n",
    "df = pd.read_csv(f\"../data/archive/database_merge.csv\")\n",
    "key_to_check = 7174\n",
    "print(df[7170:7180])\n",
    "print(df.index[7170:7180])\n",
    "if key_to_check in df.index:\n",
    "    # Proceed with operations on \n",
    "    print(\"Key exists!\")\n",
    "else:\n",
    "    print(\"Key does not exist in the DataFrame index.\")\n"
   ]
  },
  {
   "cell_type": "code",
   "execution_count": 6,
   "metadata": {},
   "outputs": [],
   "source": [
    "from pyvis.network import Network\n",
    "g = Network()\n",
    "g.add_nodes([1,2,3], value=[10, 100, 400],\n",
    "                         title=['I am node 1', 'node 2 here', 'and im node 3'],\n",
    "                         x=[21.4, 54.2, 11.2],\n",
    "                         y=[100.2, 23.54, 32.1],\n",
    "                         label=['NODE 1', 'NODE 2', 'NODE 3'],\n",
    "                         color=['#00ff1e', '#162347', '#dd4b39'])\n",
    "g.add_node(1,\"test\")\n",
    "g.save_graph('nx.html')"
   ]
  }
 ],
 "metadata": {
  "kernelspec": {
   "display_name": "Python 3",
   "language": "python",
   "name": "python3"
  },
  "language_info": {
   "codemirror_mode": {
    "name": "ipython",
    "version": 3
   },
   "file_extension": ".py",
   "mimetype": "text/x-python",
   "name": "python",
   "nbconvert_exporter": "python",
   "pygments_lexer": "ipython3",
   "version": "3.11.9"
  }
 },
 "nbformat": 4,
 "nbformat_minor": 2
}
