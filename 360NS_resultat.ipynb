{
 "cells": [
  {
   "cell_type": "code",
   "execution_count": 9,
   "metadata": {},
   "outputs": [],
   "source": [
    "import pandas as pd\n",
    "\n",
    "# Etape 1: Lire le fichier CSV\n",
    "df = pd.read_csv('archive/test/result/database_hierarchical_topics.csv')\n",
    "\n",
    "# Etape 2: Enlever la première colonne\n",
    "df_modifie = df.drop(df.columns[0], axis=1)\n",
    "\n",
    "# Etape 3: Sauvegarder le DataFrame modifié dans un nouveau fichier CSV\n",
    "df_modifie.to_csv('archive/test/result/database_hierarchical_topics.csv', index=False)\n",
    "\n"
   ]
  },
  {
   "cell_type": "code",
   "execution_count": 16,
   "metadata": {},
   "outputs": [
    {
     "data": {
      "text/plain": [
       "'said_mr_would_trump_one'"
      ]
     },
     "execution_count": 16,
     "metadata": {},
     "output_type": "execute_result"
    }
   ],
   "source": [
    "dossier = 'archive/test/result'\n",
    "df = pd.read_csv(f\"{dossier}/database_hierarchical_topics.csv\")\n",
    "\n",
    "df.loc[df['Parent_ID'] == 422, 'Parent_Name'].iloc[0]\n"
   ]
  },
  {
   "cell_type": "code",
   "execution_count": 27,
   "metadata": {},
   "outputs": [],
   "source": [
    "import os\n",
    "import pandas as pd\n",
    "import networkx as nx\n",
    "from pyvis.network import Network\n",
    "from IPython.display import display, HTML\n",
    "\n",
    "\n",
    "\n",
    "def create_network(path_folder):\n",
    "    news_net = Network(height=\"750px\", width=\"100%\", bgcolor=\"#222222\", font_color=\"white\")\n",
    "    news_net.barnes_hut()\n",
    "    news_data = pd.read_csv(f\"{path_folder}/database_update.csv\")\n",
    "    hierarchical_topics = pd.read_csv(f\"{path_folder}/database_hierarchical_topics.csv\")\n",
    "    \n",
    "\n",
    "    sources = pd.concat([hierarchical_topics[\"Parent_ID\"], hierarchical_topics[\"Parent_ID\"]], ignore_index=True)\n",
    "    sources_names = pd.concat([hierarchical_topics[\"Parent_Name\"], hierarchical_topics[\"Parent_Name\"]], ignore_index=True)\n",
    "    targets = pd.concat([hierarchical_topics[\"Child_Left_ID\"], hierarchical_topics[\"Child_Right_ID\"]], ignore_index=True)\n",
    "    targets_names = pd.concat([hierarchical_topics[\"Child_Left_Name\"], hierarchical_topics[\"Child_Right_Name\"]], ignore_index=True)\n",
    "    weights = pd.concat([hierarchical_topics[\"Distance\"], hierarchical_topics[\"Distance\"]], ignore_index=True)\n",
    "\n",
    "    edge_data = zip(sources, sources_names, targets, targets_names, weights)\n",
    "\n",
    "    for e in edge_data:\n",
    "                    src = e[0]\n",
    "                    src_names = e[1]\n",
    "                    dst = e[2]\n",
    "                    dst_names = e[3]\n",
    "                    w = e[4]\n",
    "\n",
    "                    news_net.add_node(src, src_names, title=src)\n",
    "                    news_net.add_node(dst, dst_names, title=dst)\n",
    "                    news_net.add_edge(src, dst, value=w)\n",
    "\n",
    "    neighbor_map = news_net.get_adj_list()\n",
    "\n",
    "    \"\"\"# add neighbor data to node hover data\n",
    "    for node in news_net.nodes:\n",
    "                    print(node)\n",
    "                    node[\"title\"] += \" Neighbors:<br>\" + \"<br>\".join(neighbor_map[node[\"id\"]])\n",
    "                    node[\"value\"] = len(neighbor_map[node[\"id\"]])\"\"\"\n",
    "    \n",
    "    for node in news_net.nodes:\n",
    "    # Assurez-vous que node[\"title\"] est une chaîne de caractères\n",
    "        node_title_str = str(node[\"title\"])\n",
    "        neighbors_str = \", \".join(str(neighbor) for neighbor in neighbor_map[node[\"id\"]])\n",
    "    # Utilisez la version chaîne de caractères de node[\"title\"] pour la concaténation\n",
    "        node[\"title\"] = node_title_str + \"\\n Neighbors : [\" + neighbors_str + \"]\"\n",
    "        node[\"value\"] = len(neighbor_map[node[\"id\"]])\n",
    "\n",
    "\n",
    "    \n",
    "\n",
    "    news_net.toggle_physics(True)\n",
    "    news_net.save_graph(\"graphs.html\")\n",
    "    \n",
    "\n",
    "\n",
    "if __name__ == '__main__':\n",
    "\n",
    "    dossier = 'archive/test/result'\n",
    "    create_network(dossier)\n",
    "\n",
    "    "
   ]
  },
  {
   "cell_type": "markdown",
   "metadata": {},
   "source": [
    "Warning: When  cdn_resources is 'local' jupyter notebook has issues displaying graphics on chrome/safari. Use cdn_resources='in_line' or cdn_resources='remote' if you have issues viewing graphics in a notebook."
   ]
  },
  {
   "cell_type": "code",
   "execution_count": null,
   "metadata": {},
   "outputs": [],
   "source": []
  }
 ],
 "metadata": {
  "kernelspec": {
   "display_name": "Python 3",
   "language": "python",
   "name": "python3"
  },
  "language_info": {
   "codemirror_mode": {
    "name": "ipython",
    "version": 3
   },
   "file_extension": ".py",
   "mimetype": "text/x-python",
   "name": "python",
   "nbconvert_exporter": "python",
   "pygments_lexer": "ipython3",
   "version": "3.11.8"
  }
 },
 "nbformat": 4,
 "nbformat_minor": 2
}
